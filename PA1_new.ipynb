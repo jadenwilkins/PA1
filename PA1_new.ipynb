{
 "cells": [
  {
   "cell_type": "markdown",
   "id": "3062addf",
   "metadata": {},
   "source": [
    "# Jaden Wilkins    Cs-150-01     Programming Assignment1     9/7/22"
   ]
  },
  {
   "cell_type": "code",
   "execution_count": 2,
   "id": "7987712f",
   "metadata": {},
   "outputs": [
    {
     "name": "stdout",
     "output_type": "stream",
     "text": [
      "Enter a floating point number: 29.6\n"
     ]
    }
   ],
   "source": [
    "number=float(input(\"Enter a floating point number: \"))"
   ]
  },
  {
   "cell_type": "code",
   "execution_count": 1,
   "id": "c8092964",
   "metadata": {},
   "outputs": [
    {
     "name": "stdout",
     "output_type": "stream",
     "text": [
      "Enter an integer: 5\n"
     ]
    }
   ],
   "source": [
    "number1=int(input(\"Enter an integer: \")) "
   ]
  },
  {
   "cell_type": "code",
   "execution_count": 8,
   "id": "4d853d41",
   "metadata": {},
   "outputs": [
    {
     "name": "stdout",
     "output_type": "stream",
     "text": [
      "The sum is 34.6\n"
     ]
    }
   ],
   "source": [
    "print(\"The sum is\" + \" \" + str(number+number1))"
   ]
  },
  {
   "cell_type": "code",
   "execution_count": 9,
   "id": "1666b68d",
   "metadata": {},
   "outputs": [
    {
     "name": "stdout",
     "output_type": "stream",
     "text": [
      "The difference is 24.6\n"
     ]
    }
   ],
   "source": [
    "print(\"The difference is\" + \" \" + str(number-number1))"
   ]
  },
  {
   "cell_type": "code",
   "execution_count": 10,
   "id": "332fd9fd",
   "metadata": {},
   "outputs": [
    {
     "name": "stdout",
     "output_type": "stream",
     "text": [
      "The product is 148.0\n"
     ]
    }
   ],
   "source": [
    "print(\"The product is\" + \" \" + str(number*number1))"
   ]
  },
  {
   "cell_type": "code",
   "execution_count": 11,
   "id": "bc6cd349",
   "metadata": {
    "scrolled": false
   },
   "outputs": [
    {
     "name": "stdout",
     "output_type": "stream",
     "text": [
      "The quotient is 5.92\n"
     ]
    }
   ],
   "source": [
    "print(\"The quotient is\" + \" \" + str(number/number1))"
   ]
  },
  {
   "cell_type": "code",
   "execution_count": 13,
   "id": "0d7e676a",
   "metadata": {},
   "outputs": [
    {
     "name": "stdout",
     "output_type": "stream",
     "text": [
      "The type for this result is <class 'float'>\n"
     ]
    }
   ],
   "source": [
    "print(\"The type for this result is \" + str(type(number)))"
   ]
  },
  {
   "cell_type": "code",
   "execution_count": null,
   "id": "08ce0858",
   "metadata": {},
   "outputs": [],
   "source": []
  },
  {
   "cell_type": "code",
   "execution_count": null,
   "id": "2358f54e",
   "metadata": {},
   "outputs": [],
   "source": []
  }
 ],
 "metadata": {
  "kernelspec": {
   "display_name": "Python 3 (ipykernel)",
   "language": "python",
   "name": "python3"
  },
  "language_info": {
   "codemirror_mode": {
    "name": "ipython",
    "version": 3
   },
   "file_extension": ".py",
   "mimetype": "text/x-python",
   "name": "python",
   "nbconvert_exporter": "python",
   "pygments_lexer": "ipython3",
   "version": "3.9.12"
  }
 },
 "nbformat": 4,
 "nbformat_minor": 5
}
